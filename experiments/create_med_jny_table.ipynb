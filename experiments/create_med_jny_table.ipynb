{
 "cells": [
  {
   "cell_type": "code",
   "execution_count": 1,
   "metadata": {},
   "outputs": [],
   "source": [
    "import sys\n",
    "import numpy as np\n",
    "import pandas as pd\n",
    "from tqdm import tqdm\n",
    "import copy\n",
    "\n",
    "import csv\n",
    "\n",
    "import itertools\n",
    "import collections\n",
    "import time\n",
    "import random"
   ]
  },
  {
   "cell_type": "code",
   "execution_count": 2,
   "metadata": {},
   "outputs": [],
   "source": [
    "pat_table_imported = pd.read_csv('../saved_data/patients.csv')\n",
    "# pat_table_imported"
   ]
  },
  {
   "cell_type": "code",
   "execution_count": 3,
   "metadata": {},
   "outputs": [],
   "source": [
    "adm_table_imported = pd.read_csv('../saved_data/admissions.csv')\n",
    "# adm_table_imported"
   ]
  },
  {
   "cell_type": "code",
   "execution_count": 4,
   "metadata": {},
   "outputs": [],
   "source": [
    "icu_table_imported = pd.read_csv('../saved_data/icustays.csv')\n",
    "# icu_table_imported"
   ]
  },
  {
   "cell_type": "code",
   "execution_count": 5,
   "metadata": {},
   "outputs": [],
   "source": [
    "pat_fields = ['uniquepid','patientunitstayid','patienthealthsystemstayid','hospitaladmitoffset','unitvisitnumber','unitdischargestatus']"
   ]
  },
  {
   "cell_type": "code",
   "execution_count": null,
   "metadata": {},
   "outputs": [],
   "source": [
    "adm_fields = ['patientunitstayid','admitdxenteredoffset','admitdxpath']"
   ]
  },
  {
   "cell_type": "markdown",
   "metadata": {},
   "source": [
    "Code for 'patient' table starts here"
   ]
  },
  {
   "cell_type": "code",
   "execution_count": 6,
   "metadata": {},
   "outputs": [],
   "source": [
    "pd_merged = pd.merge(adm_table_imported, pat_table_imported, on='subject_id', how='outer')\n",
    "pat_table_og = pd.merge(icu_table_imported, pd_merged, on='hadm_id', how='outer')\n",
    "pat_table_og = pat_table_og.sort_values(by=['hadm_id'])\n",
    "# pat_table_og"
   ]
  },
  {
   "cell_type": "code",
   "execution_count": 7,
   "metadata": {},
   "outputs": [],
   "source": [
    "pat_table_og['visits'] = pat_table_og.groupby(\"subject_id_x\")[\"subject_id_x\"].transform('count')\n",
    "# pat_table_og.columns"
   ]
  },
  {
   "cell_type": "code",
   "execution_count": 8,
   "metadata": {},
   "outputs": [],
   "source": [
    "pat_table_og['intime'] = pd.to_datetime(pat_table_og['intime'])\n",
    "pat_table_og['admittime'] = pd.to_datetime(pat_table_og['admittime'])\n"
   ]
  },
  {
   "cell_type": "code",
   "execution_count": 9,
   "metadata": {},
   "outputs": [],
   "source": [
    "pat_table = pd.DataFrame(columns=pat_fields)\n",
    "for i in range(len(pat_table_og)):\n",
    "    curr_row = len(pat_table.index)\n",
    "    pat_table.loc[curr_row, \"uniquepid\"] = pat_table_og.loc[i, \"subject_id_x\"]\n",
    "    pat_table.loc[curr_row, \"patientunitstayid\"] = pat_table_og.loc[i, \"icustay_id\"]\n",
    "    pat_table.loc[curr_row, \"patienthealthsystemstayid\"] = pat_table_og.loc[i, \"hadm_id\"]\n",
    "    pat_table.loc[curr_row, \"unitvisitnumber\"] = pat_table_og.loc[i, \"visits\"]\n",
    "pat_table['hospitaladmitoffset'] = (pat_table_og['admittime'] - pat_table_og['intime']).dt.total_seconds()/60\n",
    "pat_table['unitdischargestatus'] = np.where(pat_table_og['hospital_expire_flag']==1, 'Expired', np.where(pat_table_og['hospital_expire_flag']==0, 'Alive', None))\n",
    "\n",
    "# pat_table"
   ]
  },
  {
   "cell_type": "code",
   "execution_count": 10,
   "metadata": {},
   "outputs": [],
   "source": [
    "pat_table['uniquepid'] = pat_table['uniquepid'].astype(\"string\")\n",
    "pat_table['patientunitstayid'] = pat_table['patientunitstayid'].astype(\"int\")\n",
    "pat_table['patienthealthsystemstayid'] = pat_table['patienthealthsystemstayid'].astype(\"int\")\n",
    "pat_table['unitvisitnumber'] = pat_table['unitvisitnumber'].astype(\"int\")\n",
    "pat_table['unitdischargestatus'] = pat_table['unitdischargestatus'].astype(\"string\")"
   ]
  },
  {
   "cell_type": "code",
   "execution_count": 11,
   "metadata": {},
   "outputs": [],
   "source": [
    "pat_table['hospitaladmitoffset'] = round(pat_table['hospitaladmitoffset'], 0)\n",
    "pat_table['hospitaladmitoffset'] = pat_table['hospitaladmitoffset'].astype(\"int\")"
   ]
  },
  {
   "cell_type": "code",
   "execution_count": 12,
   "metadata": {},
   "outputs": [],
   "source": [
    "pat_table.to_csv('../saved_data/patient.csv', index=False)"
   ]
  },
  {
   "cell_type": "markdown",
   "metadata": {},
   "source": [
    "Code for 'admissiondx' table starts here"
   ]
  },
  {
   "cell_type": "markdown",
   "metadata": {},
   "source": []
  },
  {
   "cell_type": "code",
   "execution_count": 203,
   "metadata": {},
   "outputs": [],
   "source": [
    "# pnt = pd.read_csv(\"../saved_data/patient.csv\")\n",
    "# pnt"
   ]
  }
 ],
 "metadata": {
  "kernelspec": {
   "display_name": "Python 3.7.15 ('env_btp')",
   "language": "python",
   "name": "python3"
  },
  "language_info": {
   "codemirror_mode": {
    "name": "ipython",
    "version": 3
   },
   "file_extension": ".py",
   "mimetype": "text/x-python",
   "name": "python",
   "nbconvert_exporter": "python",
   "pygments_lexer": "ipython3",
   "version": "3.7.15"
  },
  "orig_nbformat": 4,
  "vscode": {
   "interpreter": {
    "hash": "82bc327abbbadcca180f52d1cedf78658642944fd6e53b8c21c3b269f6adbb8a"
   }
  }
 },
 "nbformat": 4,
 "nbformat_minor": 2
}
