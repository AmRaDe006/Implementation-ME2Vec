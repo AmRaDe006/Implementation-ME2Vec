{
 "cells": [
  {
   "cell_type": "code",
   "execution_count": 1,
   "metadata": {},
   "outputs": [],
   "source": [
    "import sys\n",
    "import numpy as np\n",
    "import pandas as pd\n",
    "from tqdm import tqdm\n",
    "import copy\n",
    "\n",
    "import itertools\n",
    "import collections\n",
    "import time\n",
    "import random\n",
    "\n",
    "\n",
    "# from src.utils import PickleUtils\n",
    "# from stellargraph import IndexedArray, StellarGraph"
   ]
  },
  {
   "cell_type": "code",
   "execution_count": 2,
   "metadata": {},
   "outputs": [],
   "source": [
    "pat_table_orig = pd.read_csv('../saved_data/patient.csv')\n",
    "# pat_table_orig"
   ]
  },
  {
   "cell_type": "code",
   "execution_count": 3,
   "metadata": {},
   "outputs": [],
   "source": [
    "admissionDx_table_orig = pd.read_csv('../saved_data/admissionDx.csv')\n",
    "# admissionDx_table_orig"
   ]
  },
  {
   "cell_type": "code",
   "execution_count": 4,
   "metadata": {},
   "outputs": [],
   "source": [
    "diag_table_orig = pd.read_csv('../saved_data/diagnosis.csv')\n",
    "# diag_table_orig"
   ]
  },
  {
   "cell_type": "code",
   "execution_count": 5,
   "metadata": {},
   "outputs": [],
   "source": [
    "treatment_table_orig = pd.read_csv('../saved_data/treatment.csv')\n",
    "# treatment_table_orig"
   ]
  },
  {
   "cell_type": "code",
   "execution_count": 6,
   "metadata": {},
   "outputs": [],
   "source": [
    "pat_table = pat_table_orig[['uniquepid','patientunitstayid','patienthealthsystemstayid','gender','age','ethnicity',\n",
    "                            'hospitaladmitoffset','unitvisitnumber','unitdischargestatus']].drop_duplicates()\n",
    "# pat_table"
   ]
  },
  {
   "cell_type": "code",
   "execution_count": 7,
   "metadata": {},
   "outputs": [],
   "source": [
    "admissionDx_table = admissionDx_table_orig[['patientunitstayid','admitdxenteredoffset','admitdxpath']] \\\n",
    "    .rename(columns={'admitdxpath':'PPD name', 'admitdxenteredoffset':'offset'})\n",
    "\n",
    "med_jny = admissionDx_table[admissionDx_table.patientunitstayid.isin(pat_table.patientunitstayid.to_list())].sort_values(by='patientunitstayid')\n",
    "# med_jny"
   ]
  },
  {
   "cell_type": "code",
   "execution_count": 8,
   "metadata": {},
   "outputs": [],
   "source": [
    "diag_table = diag_table_orig[['patientunitstayid','diagnosisoffset','diagnosisstring']] \\\n",
    "    .rename(columns={'diagnosisstring':'PPD name', 'diagnosisoffset':'offset'})\n",
    "med_jny = pd.concat([med_jny, diag_table]).sort_values(by=['patientunitstayid', 'offset'])\n",
    "# med_jny"
   ]
  },
  {
   "cell_type": "code",
   "execution_count": 9,
   "metadata": {},
   "outputs": [],
   "source": [
    "treatment_table = treatment_table_orig[['patientunitstayid','treatmentoffset','treatmentstring']] \\\n",
    "    .rename(columns={'treatmentstring':'PPD name', 'treatmentoffset':'offset'})\n",
    "med_jny = pd.concat([med_jny, treatment_table]).sort_values(by=['patientunitstayid', 'offset'])\n",
    "# med_jny"
   ]
  },
  {
   "cell_type": "code",
   "execution_count": 10,
   "metadata": {},
   "outputs": [],
   "source": [
    "last_units = pat_table.groupby('patienthealthsystemstayid')['unitvisitnumber'].max().reset_index(name='unitvisitnumber')\n",
    "last_units['readmission'] = 0\n",
    "pat_table = pat_table.merge(last_units, on=['patienthealthsystemstayid','unitvisitnumber'], how='outer')\n",
    "pat_table['readmission'] = pat_table['readmission'].fillna(1)"
   ]
  },
  {
   "cell_type": "code",
   "execution_count": 11,
   "metadata": {},
   "outputs": [],
   "source": [
    "def remove_adj_duplicate(x):\n",
    "    col = x['PPD name'].to_list()\n",
    "    ii = [i for i, n in enumerate(col) if i==0 or n != col[i-1]]\n",
    "    return x.iloc[ii,:]"
   ]
  },
  {
   "cell_type": "code",
   "execution_count": 12,
   "metadata": {},
   "outputs": [],
   "source": [
    "med_jny_dedup = med_jny.groupby('patientunitstayid').apply(remove_adj_duplicate).reset_index(drop=True)"
   ]
  },
  {
   "cell_type": "code",
   "execution_count": 13,
   "metadata": {},
   "outputs": [],
   "source": [
    "pat_rec_cnt = med_jny_dedup.patientunitstayid.value_counts().reset_index(name='count') \\\n",
    "    .rename(columns={'index':'patientunitstayid'})\n",
    "pat_rec_cnt = pat_rec_cnt[pat_rec_cnt['count'] >= 5]\n",
    "med_jny_dedup = med_jny_dedup[med_jny_dedup['patientunitstayid'].isin(pat_rec_cnt.patientunitstayid.to_list())]\n",
    "pat_table = pat_table[pat_table['patientunitstayid'].isin(pat_rec_cnt.patientunitstayid.to_list())]\n",
    "pat_table = pat_table.sort_values(by=['patienthealthsystemstayid','unitvisitnumber'])"
   ]
  },
  {
   "cell_type": "code",
   "execution_count": 14,
   "metadata": {},
   "outputs": [],
   "source": [
    "svc_cnts = med_jny_dedup['PPD name'].value_counts().reset_index(name='count') \\\n",
    "    .rename(columns={'index':'PPD name'})\n",
    "svc_cnts['svc_id'] = list(range(len(svc_cnts)))\n",
    "med_jny_dedup = med_jny_dedup.merge(svc_cnts, on=['PPD name'], how='inner').drop(columns='count')"
   ]
  },
  {
   "cell_type": "code",
   "execution_count": 15,
   "metadata": {},
   "outputs": [],
   "source": [
    "pat_table.to_parquet('../saved_data/pat_table.parquet', index=False)\n",
    "med_jny_dedup.to_parquet('../saved_data/med_jny_dedup.parquet', index=False)\n",
    "svc_cnts.to_csv('../saved_data/svc_dict.csv', index=False)"
   ]
  },
  {
   "cell_type": "code",
   "execution_count": 16,
   "metadata": {},
   "outputs": [],
   "source": [
    "data = pd.read_parquet('../saved_data/med_jny_dedup.parquet')\n",
    "data = data.sort_values(by=['patientunitstayid','offset','PPD name'])\n"
   ]
  },
  {
   "cell_type": "code",
   "execution_count": 17,
   "metadata": {},
   "outputs": [],
   "source": [
    "pat_table = pd.read_parquet('../saved_data/pat_table.parquet')\n",
    "svc_dict = pd.read_csv('../saved_data/svc_dict.csv')"
   ]
  },
  {
   "cell_type": "code",
   "execution_count": 18,
   "metadata": {},
   "outputs": [],
   "source": [
    "svc_dict_lean = svc_dict[svc_dict['count'] >= 100]\n",
    "data_lean = data[data['svc_id'].isin(svc_dict_lean.svc_id.to_list())]\n",
    "pat_table_lean = pat_table[pat_table.patientunitstayid.isin(data_lean.patientunitstayid.unique())]\n",
    "\n",
    "data_lean.to_parquet('../saved_data/med_jny_dedup_lean.parquet', index=False)\n",
    "pat_table_lean.to_parquet('../saved_data/pat_table_lean.parquet', index=False)"
   ]
  },
  {
   "cell_type": "code",
   "execution_count": 19,
   "metadata": {},
   "outputs": [],
   "source": [
    "pat_enc_cnts = data_lean.groupby('patientunitstayid')['offset'].count().reset_index(name='count')\n",
    "pat_ind_split = np.cumsum(pat_enc_cnts['count'].to_numpy())\n",
    "pat_ind_split = np.concatenate(([0], pat_ind_split))\n",
    "data_lean_np = data_lean[['patientunitstayid','offset','svc_id']].to_numpy()"
   ]
  },
  {
   "cell_type": "code",
   "execution_count": 20,
   "metadata": {},
   "outputs": [],
   "source": [
    "win_len = 60 # one hour\n",
    "adj_mat = np.zeros((len(svc_dict_lean), len(svc_dict_lean)), dtype=int)"
   ]
  },
  {
   "cell_type": "code",
   "execution_count": 21,
   "metadata": {},
   "outputs": [
    {
     "name": "stderr",
     "output_type": "stream",
     "text": [
      "100%|██████████| 2106/2106 [00:00<00:00, 5376.61it/s]\n"
     ]
    }
   ],
   "source": [
    "from itertools import combinations\n",
    "\n",
    "\n",
    "for i in tqdm(range(len(pat_enc_cnts))):\n",
    "\n",
    "    pat_journey = data_lean_np[pat_ind_split[i]:pat_ind_split[i + 1]]\n",
    "    ii = np.floor_divide(pat_journey[:, 1], win_len)\n",
    "    ii_uni = np.unique(ii)\n",
    "    for k in ii_uni:\n",
    "        serv_win = pat_journey[ii == k, 2]\n",
    "        if len(serv_win) == 1:\n",
    "            continue\n",
    "        indx = np.array(list(combinations(serv_win, 2)), dtype=int).T\n",
    "        adj_mat[indx[0, :], indx[1, :]] += 1\n",
    "        adj_mat[indx[1, :], indx[0, :]] += 1\n",
    "\n",
    "adj_mat[np.diag_indices(len(svc_dict_lean))] = 0"
   ]
  },
  {
   "cell_type": "code",
   "execution_count": 22,
   "metadata": {},
   "outputs": [],
   "source": [
    "fh = open('../node2vec/graph/ppd_eICU.edgelist', 'w')\n",
    "for x, y in combinations(range(len(adj_mat)), 2):\n",
    "    if adj_mat[x, y] > 0:\n",
    "        fh.write(str(x + 1) + ' ' + str(y + 1) + ' ' + str(adj_mat[x, y]) + '\\n')\n",
    "fh.close()"
   ]
  }
 ],
 "metadata": {
  "kernelspec": {
   "display_name": "Python 3.7.15 ('env_btp')",
   "language": "python",
   "name": "python3"
  },
  "language_info": {
   "codemirror_mode": {
    "name": "ipython",
    "version": 3
   },
   "file_extension": ".py",
   "mimetype": "text/x-python",
   "name": "python",
   "nbconvert_exporter": "python",
   "pygments_lexer": "ipython3",
   "version": "3.7.15 (default, Nov 24 2022, 18:44:54) [MSC v.1916 64 bit (AMD64)]"
  },
  "orig_nbformat": 4,
  "vscode": {
   "interpreter": {
    "hash": "82bc327abbbadcca180f52d1cedf78658642944fd6e53b8c21c3b269f6adbb8a"
   }
  }
 },
 "nbformat": 4,
 "nbformat_minor": 2
}
