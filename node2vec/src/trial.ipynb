{
 "cells": [
  {
   "cell_type": "code",
   "execution_count": null,
   "metadata": {},
   "outputs": [],
   "source": [
    "import argparse\n",
    "import numpy as np\n",
    "import networkx as nx\n",
    "# from node2vec.src.node2vec import Graph\n",
    "import node2vec_code\n",
    "from gensim.models import Word2Vec"
   ]
  },
  {
   "cell_type": "code",
   "execution_count": null,
   "metadata": {},
   "outputs": [],
   "source": [
    "def parse_args():\n",
    "\t'''\n",
    "\tParses the node2vec arguments.\n",
    "\t'''\n",
    "\tparser = argparse.ArgumentParser(description=\"Run node2vec.\")\n",
    "\n",
    "\tparser.add_argument('--input', nargs='?', default='node2vec/graph/karate.edgelist',\n",
    "\t                    help='Input graph path')\n",
    "\n",
    "\tparser.add_argument('--output', nargs='?', default='node2vec/emb/karate.emb',\n",
    "\t                    help='Embeddings path')\n",
    "\n",
    "\tparser.add_argument('--dimensions', type=int, default=128,\n",
    "\t                    help='Number of dimensions. Default is 128.')\n",
    "\n",
    "\tparser.add_argument('--walk-length', type=int, default=80,\n",
    "\t                    help='Length of walk per source. Default is 80.')\n",
    "\n",
    "\tparser.add_argument('--num-walks', type=int, default=10,\n",
    "\t                    help='Number of walks per source. Default is 10.')\n",
    "\n",
    "\tparser.add_argument('--window-size', type=int, default=10,\n",
    "                    \thelp='Context size for optimization. Default is 10.')\n",
    "\n",
    "\tparser.add_argument('--iter', default=1, type=int,\n",
    "                      help='Number of epochs in SGD')\n",
    "\n",
    "\tparser.add_argument('--workers', type=int, default=8,\n",
    "\t                    help='Number of parallel workers. Default is 8.')\n",
    "\n",
    "\tparser.add_argument('--p', type=float, default=1,\n",
    "\t                    help='Return hyperparameter. Default is 1.')\n",
    "\n",
    "\tparser.add_argument('--q', type=float, default=1,\n",
    "\t                    help='Inout hyperparameter. Default is 1.')\n",
    "\n",
    "\tparser.add_argument('--weighted', dest='weighted', action='store_true',\n",
    "\t                    help='Boolean specifying (un)weighted. Default is unweighted.')\n",
    "\tparser.add_argument('--unweighted', dest='unweighted', action='store_false')\n",
    "\tparser.set_defaults(weighted=False)\n",
    "\n",
    "\tparser.add_argument('--directed', dest='directed', action='store_true',\n",
    "\t                    help='Graph is (un)directed. Default is undirected.')\n",
    "\tparser.add_argument('--undirected', dest='undirected', action='store_false')\n",
    "\tparser.set_defaults(directed=False)\n",
    "\n",
    "\treturn parser.parse_args()"
   ]
  },
  {
   "cell_type": "code",
   "execution_count": null,
   "metadata": {},
   "outputs": [],
   "source": [
    "def read_graph():\n",
    "\t'''\n",
    "\tReads the input network in networkx.\n",
    "\t'''\n",
    "\tif args.weighted:\n",
    "\t\tG = nx.read_edgelist(args.input, nodetype=int, data=(('weight',float),), create_using=nx.DiGraph())\n",
    "\telse:\n",
    "\t\tG = nx.read_weighted_edgelist(args.input, nodetype=int, create_using=nx.DiGraph())\n",
    "\t\tfor edge in G.edges():\n",
    "\t\t\tG[edge[0]][edge[1]]['weight'] = 1\n",
    "\n",
    "\tif not args.directed:\n",
    "\t\tG = G.to_undirected()\n",
    "\n",
    "\treturn G"
   ]
  },
  {
   "cell_type": "code",
   "execution_count": null,
   "metadata": {},
   "outputs": [],
   "source": [
    "def learn_embeddings(walks):\n",
    "\t'''\n",
    "\tLearn embeddings by optimizing the Skipgram objective using SGD.\n",
    "\t'''\n",
    "\twalks = [map(str, walk) for walk in walks]\n",
    "\tmodel = Word2Vec(walks, size=args.dimensions, window=args.window_size, min_count=0, sg=1, workers=args.workers, iter=args.iter)\n",
    "\tmodel.save_word2vec_format(args.output)\n",
    "\t\n",
    "\treturn"
   ]
  },
  {
   "cell_type": "code",
   "execution_count": null,
   "metadata": {},
   "outputs": [],
   "source": [
    "def main(args):\n",
    "\t'''\n",
    "\tPipeline for representational learning for all nodes in a graph.\n",
    "\t'''\n",
    "\tnx_G = read_graph()\n",
    "\tG = node2vec_code.Graph(nx_G, args.directed, args.p, args.q)\n",
    "\tG.preprocess_transition_probs()\n",
    "\twalks = G.simulate_walks(args.num_walks, args.walk_length)\n",
    "\tlearn_embeddings(walks)"
   ]
  }
 ],
 "metadata": {
  "kernelspec": {
   "display_name": "env_btp",
   "language": "python",
   "name": "python3"
  },
  "language_info": {
   "name": "python",
   "version": "3.7.15"
  },
  "orig_nbformat": 4,
  "vscode": {
   "interpreter": {
    "hash": "82bc327abbbadcca180f52d1cedf78658642944fd6e53b8c21c3b269f6adbb8a"
   }
  }
 },
 "nbformat": 4,
 "nbformat_minor": 2
}
